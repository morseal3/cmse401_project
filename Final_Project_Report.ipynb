{
 "cells": [
  {
   "cell_type": "markdown",
   "id": "015b687e",
   "metadata": {},
   "source": [
    "# Wave Project\n",
    "\n",
    "## By: Alexis Morse"
   ]
  },
  {
   "attachments": {},
   "cell_type": "markdown",
   "id": "36d6336e",
   "metadata": {},
   "source": [
    "\n",
    "<img src=\"out.gif\" width=\"450\" height=\"250\">"
   ]
  },
  {
   "cell_type": "markdown",
   "id": "bcc47e20",
   "metadata": {},
   "source": [
    "### Abstract:\n",
    "\n",
    "The wave equation defines a sets of 20 points, $x$ & $y$, both ranging from a scale of -1 to 1. We solve for $U_{tt}$ which is the function of time with respect \n",
    "\n",
    "to $ U_{xx} + U_{yy}$. The initial value equation for every $x$ and $y$ value is as follows \n",
    "\n",
    "$$ e^ {-\\frac{1}{2}(x*x + y*y) / (0.1 ^2)} $$\n",
    "\n",
    "Using the *Taylor Expansion* to approximate we can set up the grid of values which forms the wave, as seen in the image above. The points $x_i$ and $y_i$ are each \n",
    "\n",
    "possible position on the $x$ and $y$ axis from a range of -1 to 1. This grid is 3 dimensions so we are calculating the points using the Taylor expansion to find the \n",
    "\n",
    "values of Z, also known as $U_{tt}$. \n",
    "\n",
    "The change in points are defined by Cartesian coordinates, an additive equation that represents the distance from perpendicular lines that interset at the origin point. In the initialization section, you subtract the change in time multiplied by "
   ]
  },
  {
   "cell_type": "code",
   "execution_count": null,
   "id": "e47c96a6",
   "metadata": {},
   "outputs": [],
   "source": []
  },
  {
   "cell_type": "code",
   "execution_count": null,
   "id": "42f461d5",
   "metadata": {},
   "outputs": [],
   "source": []
  },
  {
   "cell_type": "markdown",
   "id": "635e81d1",
   "metadata": {},
   "source": [
    "------------------------------------------------------"
   ]
  },
  {
   "cell_type": "markdown",
   "id": "5f48ca0f",
   "metadata": {},
   "source": [
    "# Results"
   ]
  },
  {
   "cell_type": "markdown",
   "id": "09cbc323",
   "metadata": {},
   "source": [
    "First we have a serial test of the wave project without the use of parallel programming techniques. I ran a time test 20 \n",
    "\n",
    "times then averages the times it took to run the program. The program for averaging is as shown below"
   ]
  },
  {
   "cell_type": "code",
   "execution_count": 1,
   "id": "10023157",
   "metadata": {
    "scrolled": true
   },
   "outputs": [
    {
     "name": "stdout",
     "output_type": "stream",
     "text": [
      "The average run time of the serial program is 0.01975754\n"
     ]
    },
    {
     "data": {
      "image/png": "[encoded data removed]",
      "text/plain": [
       "<Figure size 432x288 with 1 Axes>"
      ]
     },
     "metadata": {
      "needs_background": "light"
     },
     "output_type": "display_data"
    }
   ],
   "source": [
    "import matplotlib.pyplot as plt\n",
    "import numpy as np\n",
    "\n",
    "times = [0.0207202, 0.0178376, 0.0166965, 0.0240438,  0.018265,\\\n",
    "         0.0184283, 0.0247975, 0.0235521, 0.0168302, 0.0232333, \\\n",
    "         0.017483, 0.0170326, 0.020098, 0.0231881, 0.0184656, 0.017382, \\\n",
    "         0.0174514,  0.0202253, 0.0184537, 0.0209666]\n",
    "\n",
    "trials = np.arange(1,21)\n",
    "\n",
    "plt.scatter(trials, times, c = \"green\")\n",
    "plt.title(\"Serial Test\")\n",
    "plt.xlabel(\"Trial Runs\")\n",
    "plt.ylabel(\"Run Times\")\n",
    "plt.ylim(0, 0.030)\n",
    "time_mean = np.mean(times)\n",
    "print(\"The average run time of the serial program is {}\".format(time_mean))"
   ]
  },
  {
   "cell_type": "markdown",
   "id": "4b5c8340",
   "metadata": {},
   "source": [
    "### Open MP\n",
    "\n",
    "#### First Method: #pragma openmp parallel for collapse( ) on nested for loops\n",
    "\n",
    "There are two for loops within the code, one is a single nested for loop and i used the following code to improve the code \n",
    "\n",
    "`#pragma omp parallel for collapse(2) private(it, j)`\n",
    "\n",
    "On the second for loop, there were 6 for loops nested within the initial for loop. Therefore, I had to use the following command, similar to the one above but changing values to account for the size of the for loop.\n",
    "\n",
    "`#pragma omp parallel for collapse(7) private(it, j, i)`"
   ]
  },
  {
   "cell_type": "code",
   "execution_count": 2,
   "id": "831ef1a1",
   "metadata": {
    "scrolled": true
   },
   "outputs": [
    {
     "name": "stdout",
     "output_type": "stream",
     "text": [
      "The average run time of the OpenMP Collapse program method is 0.019105854999999998\n"
     ]
    },
    {
     "data": {
      "image/png": "[encoded data removed]",
      "text/plain": [
       "<Figure size 432x288 with 1 Axes>"
      ]
     },
     "metadata": {
      "needs_background": "light"
     },
     "output_type": "display_data"
    }
   ],
   "source": [
    "times = [0.021243,  0.0176018, 0.0184186, 0.018308, 0.0178828, 0.0170756,\\\n",
    "         0.0230785, 0.0183478, 0.0231974, 0.0186802, 0.0229645, 0.0184417,\\\n",
    "         0.0233235,  0.0182232, 0.0173285, 0.0168193, 0.0184054, 0.0171735,\\\n",
    "         0.0174065, 0.0181973]\n",
    "\n",
    "trials = np.arange(1,21)\n",
    "\n",
    "plt.scatter(trials, times, c = \"maroon\")\n",
    "plt.title(\"Serial Test\")\n",
    "plt.xlabel(\"Trial Runs\")\n",
    "plt.ylabel(\"Run Times\")\n",
    "plt.ylim(0, 0.030)\n",
    "time_mean = np.mean(times)\n",
    "print(\"The average run time of the OpenMP Collapse program method is {}\".format(time_mean))"
   ]
  },
  {
   "cell_type": "markdown",
   "id": "8a558663",
   "metadata": {},
   "source": [
    "#### Second Method: #pragma openmp parallel for schedule(static) on nested for loops\n",
    "\n",
    "There are two for loops within the code, one is a single nested for loop and i used the following code to improve the code \n",
    "\n",
    "`#pragma omp for schedule(static, 3)`\n",
    "\n",
    "For this instance I also used the code above on the bigger loop. This allows for less calls to the runtime library and hopefully will show an improvement in run time. By splitting up the assigning of variables into different threads, the calculations can occur in a worksharing loop environment"
   ]
  },
  {
   "cell_type": "code",
   "execution_count": 3,
   "id": "8289e50f",
   "metadata": {},
   "outputs": [
    {
     "name": "stdout",
     "output_type": "stream",
     "text": [
      "The average run time of the OpenMP Collapse program method is 0.018057520000000004\n"
     ]
    },
    {
     "data": {
      "image/png": "[encoded data removed]",
      "text/plain": [
       "<Figure size 432x288 with 1 Axes>"
      ]
     },
     "metadata": {
      "needs_background": "light"
     },
     "output_type": "display_data"
    }
   ],
   "source": [
    "times = [0.0178683,  0.0170896, 0.0170896, 0.0174092, 0.0178828, 0.0170756,\\\n",
    "         0.017307, 0.017371, 0.0185422, 0.0166396, 0.017745, 0.0180805,\\\n",
    "         0.0178145,  0.0184864, 0.0238791, 0.0175909, 0.0175583, 0.0171643,\\\n",
    "         0.0207312, 0.0178253]\n",
    "\n",
    "trials = np.arange(1,21)\n",
    "\n",
    "plt.scatter(trials, times, c = \"maroon\")\n",
    "plt.title(\"Serial Test\")\n",
    "plt.xlabel(\"Trial Runs\")\n",
    "plt.ylabel(\"Run Times\")\n",
    "plt.ylim(0, 0.030)\n",
    "time_mean = np.mean(times)\n",
    "print(\"The average run time of the OpenMP Collapse program method is {}\".format(time_mean))"
   ]
  },
  {
   "cell_type": "markdown",
   "id": "ab92d21d",
   "metadata": {},
   "source": [
    "#### Third Method: #pragma openmp parallel for reduction on variables within nested for loops\n",
    "\n",
    "There are two for loops within the code, one is a single nested for loop and i used the following code to improve the code \n",
    "\n",
    "`#pragma omp parallel for reduction(- : um)`\n",
    "\n",
    "On the second for loop, there were 6 for loops nested within the initial for loop. Therefore, I had to use the following command, similar to the one above but changing values based on what the wave equation is calculating, as well as the operation type (+, *, -, .\n",
    "\n",
    "` #pragma omp parallel for reduction(* : t) reduction(* : Lap) reduction(+ : up)`"
   ]
  },
  {
   "cell_type": "code",
   "execution_count": 4,
   "id": "398a4482",
   "metadata": {
    "scrolled": true
   },
   "outputs": [
    {
     "name": "stdout",
     "output_type": "stream",
     "text": [
      "The average run time of the OpenMP reduction program method is 0.02023751\n"
     ]
    },
    {
     "data": {
      "image/png": "[encoded data removed]",
      "text/plain": [
       "<Figure size 432x288 with 1 Axes>"
      ]
     },
     "metadata": {
      "needs_background": "light"
     },
     "output_type": "display_data"
    }
   ],
   "source": [
    "times = [0.0200906,  0.0194019, 0.018679, 0.018308, 0.0240659, 0.022893,\\\n",
    "         0.0194378, 0.0186605, 0.018628, 0.0186802, 0.0185021, 0.0271282,\\\n",
    "         0.0194205,   0.0185674, 0.0232926, 0.0232383, 0.0195182, 0.0183108,\\\n",
    "         0.0194116, 0.0185156]\n",
    "\n",
    "trials = np.arange(1,21)\n",
    "\n",
    "plt.scatter(trials, times, c = \"maroon\")\n",
    "plt.title(\"Serial Test\")\n",
    "plt.xlabel(\"Trial Runs\")\n",
    "plt.ylabel(\"Run Times\")\n",
    "plt.ylim(0, 0.030)\n",
    "time_mean = np.mean(times)\n",
    "print(\"The average run time of the OpenMP reduction program method is {}\".format(time_mean))"
   ]
  },
  {
   "cell_type": "code",
   "execution_count": null,
   "id": "9fbce063",
   "metadata": {},
   "outputs": [],
   "source": []
  },
  {
   "cell_type": "code",
   "execution_count": null,
   "id": "c6db35c7",
   "metadata": {},
   "outputs": [],
   "source": []
  },
  {
   "cell_type": "code",
   "execution_count": null,
   "id": "79bbc7e1",
   "metadata": {},
   "outputs": [],
   "source": []
  },
  {
   "cell_type": "markdown",
   "id": "5f20a77b",
   "metadata": {},
   "source": [
    "### MPI"
   ]
  }
 ],
 "metadata": {
  "kernelspec": {
   "display_name": "Python 3",
   "language": "python",
   "name": "python3"
  },
  "language_info": {
   "codemirror_mode": {
    "name": "ipython",
    "version": 3
   },
   "file_extension": ".py",
   "mimetype": "text/x-python",
   "name": "python",
   "nbconvert_exporter": "python",
   "pygments_lexer": "ipython3",
   "version": "3.8.8"
  }
 },
 "nbformat": 4,
 "nbformat_minor": 5
}
