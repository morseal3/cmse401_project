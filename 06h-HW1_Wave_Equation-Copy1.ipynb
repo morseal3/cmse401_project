{
 "cells": [
  {
   "cell_type": "markdown",
   "metadata": {},
   "source": [
    "[Link to this document's Jupyter Notebook](./06h-HW1_Wave_Equation.ipynb)"
   ]
  },
  {
   "cell_type": "markdown",
   "metadata": {},
   "source": [
    "# Homework 1: 1D Wave Equation\n",
    "\n",
    "In this homework we will solve the wave equation in 1-D through a finite difference approach using Euler's method. The purpose of the assignment is to allow students to compare and benchmark language choice and its impact on time to science using an easy to describe and read, mostly memory coherent application.\n",
    "\n",
    "### Goals for this assignment:\n",
    "\n",
    "By the end of this assignment, you should be able to:\n",
    "\n",
    "* Implement a 1D wave equation using the finite difference method\n",
    "* Conduct a timing study of your code\n",
    "\n",
    "\n",
    "\n",
    "1. [Implement the 1D wave equation](#Implement-the-1D-wave-equation)\n",
    "2. [Timeing / Scaling Study](#Timeing-Scaling-Study)\n",
    "3. [Homework Report](#Homework-Report)\n",
    "4. [Optional Bonus](#Optional-Bonus)\n",
    "5. [Tar Zip your files](#Tar-Zip-your-files)\n",
    "\n",
    "\n",
    "\n",
    "\n",
    "The 1D wave equation can be thought of as a wave propagating along a string.\n",
    "\n",
    "<img alt=\"animated image of a 1 dimensional wave function as it propagates though time. It starts as a single peak and then moves down slowly into two peeks moving towards the ends. \" src=\"https://i.stack.imgur.com/75vyK.gif\" width=50%>\n"
   ]
  },
  {
   "cell_type": "markdown",
   "metadata": {},
   "source": [
    "The wave equation is an  second-order linear partial differential equation for the description of waves as they occur in classical physics (for example: water waves, sound waves and seismic waves, light waves).  The basic algorithm splits the wave into a grid of points and calculates the point's position, velocity and acceleration.  The key incite to making the wave equations work that an individuals point will lead/follow the behavior of that points neighbors.  \n",
    "\n",
    "\n",
    "In the 1D case we will model a line of points in the x-direction such that thy can only move in the y direction. The position for each point  $y$ can be calculated by the particle's previous position and the particle's velocity multiplied by the change in time:\n",
    "\n",
    "$$y_{i+1} = y_i + \\dot{y}_idt$$\n",
    "\n",
    "Notation:\n",
    "$$\\frac{dy}{dt} = \\dot{y} = v = \\text{velocity of particle in y direction}$$\n",
    "\n",
    "We calculation the velocity using the acceleration:\n",
    "\n",
    "$$\\dot{y}_{i+1} = \\dot{y}_i + \\ddot{y}_idt$$\n",
    "\n",
    "Notation:\n",
    "$$\\frac{d^2y}{dt^2} = \\frac{dv}{dt} = \\ddot{y} = a = \\text{acceleration of particle in y direction}$$\n",
    "\n",
    "\n",
    "Given the above equations,  if we know the starting values $y_0$, $\\dot{y}_0$, $\\ddot{y}_0$ then the only unknown is the equation for how the acceleration changes.  "
   ]
  },
  {
   "cell_type": "markdown",
   "metadata": {},
   "source": [
    "**Wave Equation:** We will estimate acceleration in time by using acceleration in space. Intuitively we can think about this as any point can estimate where it will be in the future by looking at it's neighbors. Mathematically we show this equation as follows:\n",
    "\n",
    "\n",
    "$$\\frac{d^2y}{dt^2} = \\gamma\\frac{d^2y}{dx^2}$$"
   ]
  },
  {
   "cell_type": "markdown",
   "metadata": {},
   "source": [
    "We know the acceleration in space using the Euler's finite difference of the particle's position:"
   ]
  },
  {
   "cell_type": "markdown",
   "metadata": {},
   "source": [
    "$$\\frac{d^2y}{dx^2} \\approx \\frac{y[i+1]-2y[i]+y[i-1]}{dx^2}$$"
   ]
  },
  {
   "cell_type": "markdown",
   "metadata": {},
   "source": [
    "To get the above equation we estimate the velocity to the Left and Right (Before and After) the point of interest using Finite Difference:\n",
    "\n",
    "$$\\dot{y}[i]_L = \\frac{y[i]-y[i-1]}{dx}$$\n",
    "\n",
    "$$\\dot{y}[i]_R = \\frac{y[i+1]-y[i]}{dx}$$"
   ]
  },
  {
   "cell_type": "markdown",
   "metadata": {},
   "source": [
    "Second, using the Left and Right Velocity,  we use finite difference again to estimate the acceleration:\n",
    "\n",
    "$$\\ddot{y}[i] = \\frac{\\dot{y}[i]_R - \\dot{y}[i]_L}{dx}$$"
   ]
  },
  {
   "cell_type": "markdown",
   "metadata": {},
   "source": [
    "Putting it all together and simplifying we get the followign:"
   ]
  },
  {
   "cell_type": "markdown",
   "metadata": {},
   "source": [
    "$$\\ddot{y}[i] = \\frac{y[i+1]-2y[i]+y[i-1]}{dx^2}$$"
   ]
  },
  {
   "cell_type": "markdown",
   "metadata": {},
   "source": [
    "Given the above we can calculate a points position at time step $t+1$ by using it's position/velocity at timestep $t$ and it's neighbors position at time step $t-1$.\n",
    "\n",
    "---\n",
    "<a name=Implement-the-1D-wave-equation></a>\n",
    "# 1. Implement the 1D wave equation\n",
    "\n",
    "\n",
    "\n",
    "&#9989; **<font color=red>DO THIS:</font>** Write a 1D wave equation in your program language of choice using the following pseudocode as a guide. "
   ]
  },
  {
   "cell_type": "markdown",
   "metadata": {},
   "source": [
    "Pseudocode and settings for 1D Wave Equation\n",
    "\n",
    "> ### Divide simulation into grid in the x direction\n",
    "> \n",
    "> $xmin = 0; xmax=10; nx=512$\n",
    ">\n",
    "> $dx = \\frac{xmax-xmin}{nx}$\n",
    ">\n",
    "> $x = \\text{linspace}(xmin, xmax, nx)$  #Returns a row vector of nx evenly spaced points between xmin and xmax.\n",
    ">\n",
    "> ### Divide time into discrete units\n",
    ">\n",
    "> $tmin = 0; tmax=10; nt=1000000$\n",
    ">\n",
    "> $dt = \\frac{tmax-tmin}{nt}$\n",
    ">\n",
    "> $times = \\text{linespace}(tmin,tmax, nt)$ #Returns a row vector of nt evenly spaced points between tmin and tmax.\n",
    ">\n",
    "> ### Initialize starting position as a simple pulse\n",
    ">\n",
    "> $y_i = e^{-(x_i-5)^2}$ for all $i \\in [0,nx)$\n",
    ">\n",
    "> ### Initialize velocity and acceleration to zero\n",
    ">\n",
    "> $\\dot{y}_i = 0$ for all $i \\in [0,nx)$\n",
    ">\n",
    "> $\\ddot{y}_i = 0$ for all $i \\in [0,nx)$\n",
    ">\n",
    "> $\\gamma = 1$\n",
    ">\n",
    "> ### Run the simulation of t timesteps\n",
    "> Loop over index $t$ in $times$:\n",
    ">\n",
    ">    > $\\ddot{y}_0 = 0$ # Keep acceleration to zero on ends\n",
    ">    >\n",
    ">    > $\\ddot{y}_{nx-1} = 0$ # Keep acceleration to zero on ends\n",
    ">    >\n",
    ">    > $\\ddot{y}_i \\approx \\gamma \\frac{y_{(i+1)} + y_{(i-1)}-2y_i}{dx^2}$ for all $i \\in (0,nx-1)$ # Estimate acceleration using position\n",
    ">    > \n",
    ">    > $y_i = y_i + \\dot{y}_i dt$   for all $i \\in [0,nx)$ # Update position\n",
    ">    >\n",
    ">    > $\\dot{y}_{i} = \\dot{y}_i+ \\ddot{y}_idt$   for all $i \\in [0,nx)$ # Update velocity\n"
   ]
  },
  {
   "cell_type": "code",
   "execution_count": 14,
   "metadata": {},
   "outputs": [],
   "source": [
    "import numpy as np\n",
    "import matplotlib.pyplot as plt\n",
    "import matplotlib.animation as animation\n",
    "from matplotlib.animation import FuncAnimation"
   ]
  },
  {
   "cell_type": "code",
   "execution_count": 15,
   "metadata": {},
   "outputs": [],
   "source": [
    "xmin = 0\n",
    "xmax=10\n",
    "nx=512\n",
    "dx = (xmax-xmin)/nx\n",
    "x = np.linspace(xmin, xmax, nx)"
   ]
  },
  {
   "cell_type": "code",
   "execution_count": 16,
   "metadata": {},
   "outputs": [],
   "source": [
    "tmin = 0 \n",
    "tmax=10\n",
    "nt=1000000\n",
    "dt = (tmax-tmin)/nt\n",
    "times = np.linspace(tmin, tmax, nt)"
   ]
  },
  {
   "cell_type": "code",
   "execution_count": 17,
   "metadata": {},
   "outputs": [
    {
     "name": "stdout",
     "output_type": "stream",
     "text": [
      "[1.38879439e-11 1.68834334e-11 2.05093051e-11 2.48947910e-11\n",
      " 3.01948854e-11 3.65953284e-11 4.43185224e-11 5.36305508e-11\n",
      " 6.48494958e-11 7.83552881e-11 9.46013604e-11 1.14128422e-10\n",
      " 1.37580729e-10 1.65725279e-10 1.99474450e-10 2.39912653e-10\n",
      " 2.88327716e-10 3.46247775e-10 4.15484621e-10 4.98184575e-10\n",
      " 5.96888156e-10 7.14599993e-10 8.54870667e-10 1.02189244e-09\n",
      " 1.22061110e-09 1.45685661e-09 1.73749539e-09 2.07060795e-09\n",
      " 2.46569556e-09 2.93392084e-09 3.48838726e-09 4.14446382e-09\n",
      " 4.92016170e-09 5.83657083e-09 6.91836556e-09 8.19438969e-09\n",
      " 9.69833279e-09 1.14695113e-08 1.35537698e-08 1.60045202e-08\n",
      " 1.88839383e-08 2.22643412e-08 2.62297703e-08 3.08778097e-08\n",
      " 3.63216733e-08 4.26925966e-08 5.01425774e-08 5.88475110e-08\n",
      " 6.90107752e-08 8.08673244e-08 9.46883621e-08 1.10786667e-07\n",
      " 1.29522658e-07 1.51311300e-07 1.76629947e-07 2.06027255e-07\n",
      " 2.40133292e-07 2.79671000e-07 3.25469171e-07 3.78477129e-07\n",
      " 4.39781328e-07 5.10624081e-07 5.92424704e-07 6.86803326e-07\n",
      " 7.95607706e-07 9.20943386e-07 1.06520758e-06 1.23112719e-06\n",
      " 1.42180147e-06 1.64074979e-06 1.89196509e-06 2.17997363e-06\n",
      " 2.50990176e-06 2.88755036e-06 3.31947784e-06 3.81309250e-06\n",
      " 4.37675534e-06 5.01989416e-06 5.75313033e-06 6.58841923e-06\n",
      " 7.53920585e-06 8.62059690e-06 9.84955106e-06 1.12450890e-05\n",
      " 1.28285248e-05 1.46237212e-05 1.66573704e-05 1.89593022e-05\n",
      " 2.15628229e-05 2.45050868e-05 2.78275028e-05 3.15761798e-05\n",
      " 3.58024131e-05 4.05632155e-05 4.59218960e-05 5.19486909e-05\n",
      " 5.87214495e-05 6.63263790e-05 7.48588533e-05 8.44242894e-05\n",
      " 9.51390957e-05 1.07131697e-04 1.20543643e-04 1.35530801e-04\n",
      " 1.52264638e-04 1.70933611e-04 1.91744644e-04 2.14924724e-04\n",
      " 2.40722605e-04 2.69410634e-04 3.01286695e-04 3.36676292e-04\n",
      " 3.75934756e-04 4.19449599e-04 4.67643012e-04 5.20974513e-04\n",
      " 5.79943742e-04 6.45093428e-04 7.17012504e-04 7.96339400e-04\n",
      " 8.83765490e-04 9.80038722e-04 1.08596741e-03 1.20242421e-03\n",
      " 1.33035025e-03 1.47075942e-03 1.62474288e-03 1.79347368e-03\n",
      " 1.97821156e-03 2.18030788e-03 2.40121072e-03 2.64247013e-03\n",
      " 2.90574340e-03 3.19280058e-03 3.50553002e-03 3.84594393e-03\n",
      " 4.21618412e-03 4.61852766e-03 5.05539263e-03 5.52934381e-03\n",
      " 6.04309832e-03 6.59953121e-03 7.20168092e-03 7.85275459e-03\n",
      " 8.55613320e-03 9.31537644e-03 1.01342274e-02 1.10166167e-02\n",
      " 1.19666668e-02 1.29886949e-02 1.40872168e-02 1.52669484e-02\n",
      " 1.65328088e-02 1.78899204e-02 1.93436103e-02 2.08994098e-02\n",
      " 2.25630534e-02 2.43404769e-02 2.62378143e-02 2.82613946e-02\n",
      " 3.04177359e-02 3.27135399e-02 3.51556846e-02 3.77512155e-02\n",
      " 4.05073359e-02 4.34313955e-02 4.65308782e-02 4.98133873e-02\n",
      " 5.32866309e-02 5.69584040e-02 6.08365702e-02 6.49290418e-02\n",
      " 6.92437576e-02 7.37886598e-02 7.85716691e-02 8.36006583e-02\n",
      " 8.88834241e-02 9.44276579e-02 1.00240915e-01 1.06330580e-01\n",
      " 1.12703839e-01 1.19367637e-01 1.26328647e-01 1.33593232e-01\n",
      " 1.41167404e-01 1.49056789e-01 1.57266585e-01 1.65801521e-01\n",
      " 1.74665821e-01 1.83863155e-01 1.93396606e-01 2.03268626e-01\n",
      " 2.13480993e-01 2.24034777e-01 2.34930296e-01 2.46167080e-01\n",
      " 2.57743834e-01 2.69658401e-01 2.81907733e-01 2.94487851e-01\n",
      " 3.07393824e-01 3.20619738e-01 3.34158670e-01 3.48002669e-01\n",
      " 3.62142734e-01 3.76568804e-01 3.91269742e-01 4.06233328e-01\n",
      " 4.21446254e-01 4.36894128e-01 4.52561472e-01 4.68431736e-01\n",
      " 4.84487308e-01 5.00709532e-01 5.17078733e-01 5.33574240e-01\n",
      " 5.50174420e-01 5.66856715e-01 5.83597682e-01 6.00373041e-01\n",
      " 6.17157724e-01 6.33925929e-01 6.50651184e-01 6.67306407e-01\n",
      " 6.83863976e-01 7.00295798e-01 7.16573387e-01 7.32667945e-01\n",
      " 7.48550439e-01 7.64191686e-01 7.79562446e-01 7.94633503e-01\n",
      " 8.09375764e-01 8.23760344e-01 8.37758664e-01 8.51342543e-01\n",
      " 8.64484292e-01 8.77156806e-01 8.89333661e-01 9.00989199e-01\n",
      " 9.12098625e-01 9.22638086e-01 9.32584767e-01 9.41916962e-01\n",
      " 9.50614161e-01 9.58657122e-01 9.66027941e-01 9.72710120e-01\n",
      " 9.78688629e-01 9.83949959e-01 9.88482176e-01 9.92274967e-01\n",
      " 9.95319675e-01 9.97609336e-01 9.99138702e-01 9.99904264e-01\n",
      " 9.99904264e-01 9.99138702e-01 9.97609336e-01 9.95319675e-01\n",
      " 9.92274967e-01 9.88482176e-01 9.83949959e-01 9.78688629e-01\n",
      " 9.72710120e-01 9.66027941e-01 9.58657122e-01 9.50614161e-01\n",
      " 9.41916962e-01 9.32584767e-01 9.22638086e-01 9.12098625e-01\n",
      " 9.00989199e-01 8.89333661e-01 8.77156806e-01 8.64484292e-01\n",
      " 8.51342543e-01 8.37758664e-01 8.23760344e-01 8.09375764e-01\n",
      " 7.94633503e-01 7.79562446e-01 7.64191686e-01 7.48550439e-01\n",
      " 7.32667945e-01 7.16573387e-01 7.00295798e-01 6.83863976e-01\n",
      " 6.67306407e-01 6.50651184e-01 6.33925929e-01 6.17157724e-01\n",
      " 6.00373041e-01 5.83597682e-01 5.66856715e-01 5.50174420e-01\n",
      " 5.33574240e-01 5.17078733e-01 5.00709532e-01 4.84487308e-01\n",
      " 4.68431736e-01 4.52561472e-01 4.36894128e-01 4.21446254e-01\n",
      " 4.06233328e-01 3.91269742e-01 3.76568804e-01 3.62142734e-01\n",
      " 3.48002669e-01 3.34158670e-01 3.20619738e-01 3.07393824e-01\n",
      " 2.94487851e-01 2.81907733e-01 2.69658401e-01 2.57743834e-01\n",
      " 2.46167080e-01 2.34930296e-01 2.24034777e-01 2.13480993e-01\n",
      " 2.03268626e-01 1.93396606e-01 1.83863155e-01 1.74665821e-01\n",
      " 1.65801521e-01 1.57266585e-01 1.49056789e-01 1.41167404e-01\n",
      " 1.33593232e-01 1.26328647e-01 1.19367637e-01 1.12703839e-01\n",
      " 1.06330580e-01 1.00240915e-01 9.44276579e-02 8.88834241e-02\n",
      " 8.36006583e-02 7.85716691e-02 7.37886598e-02 6.92437576e-02\n",
      " 6.49290418e-02 6.08365702e-02 5.69584040e-02 5.32866309e-02\n",
      " 4.98133873e-02 4.65308782e-02 4.34313955e-02 4.05073359e-02\n",
      " 3.77512155e-02 3.51556846e-02 3.27135399e-02 3.04177359e-02\n",
      " 2.82613946e-02 2.62378143e-02 2.43404769e-02 2.25630534e-02\n",
      " 2.08994098e-02 1.93436103e-02 1.78899204e-02 1.65328088e-02\n",
      " 1.52669484e-02 1.40872168e-02 1.29886949e-02 1.19666668e-02\n",
      " 1.10166167e-02 1.01342274e-02 9.31537644e-03 8.55613320e-03\n",
      " 7.85275459e-03 7.20168092e-03 6.59953121e-03 6.04309832e-03\n",
      " 5.52934381e-03 5.05539263e-03 4.61852766e-03 4.21618412e-03\n",
      " 3.84594393e-03 3.50553002e-03 3.19280058e-03 2.90574340e-03\n",
      " 2.64247013e-03 2.40121072e-03 2.18030788e-03 1.97821156e-03\n",
      " 1.79347368e-03 1.62474288e-03 1.47075942e-03 1.33035025e-03\n",
      " 1.20242421e-03 1.08596741e-03 9.80038722e-04 8.83765490e-04\n",
      " 7.96339400e-04 7.17012504e-04 6.45093428e-04 5.79943742e-04\n",
      " 5.20974513e-04 4.67643012e-04 4.19449599e-04 3.75934756e-04\n",
      " 3.36676292e-04 3.01286695e-04 2.69410634e-04 2.40722605e-04\n",
      " 2.14924724e-04 1.91744644e-04 1.70933611e-04 1.52264638e-04\n",
      " 1.35530801e-04 1.20543643e-04 1.07131697e-04 9.51390957e-05\n",
      " 8.44242894e-05 7.48588533e-05 6.63263790e-05 5.87214495e-05\n",
      " 5.19486909e-05 4.59218960e-05 4.05632155e-05 3.58024131e-05\n",
      " 3.15761798e-05 2.78275028e-05 2.45050868e-05 2.15628229e-05\n",
      " 1.89593022e-05 1.66573704e-05 1.46237212e-05 1.28285248e-05\n",
      " 1.12450890e-05 9.84955106e-06 8.62059690e-06 7.53920585e-06\n",
      " 6.58841923e-06 5.75313033e-06 5.01989416e-06 4.37675534e-06\n",
      " 3.81309250e-06 3.31947784e-06 2.88755036e-06 2.50990176e-06\n",
      " 2.17997363e-06 1.89196509e-06 1.64074979e-06 1.42180147e-06\n",
      " 1.23112719e-06 1.06520758e-06 9.20943386e-07 7.95607706e-07\n",
      " 6.86803326e-07 5.92424704e-07 5.10624081e-07 4.39781328e-07\n",
      " 3.78477129e-07 3.25469171e-07 2.79671000e-07 2.40133292e-07\n",
      " 2.06027255e-07 1.76629947e-07 1.51311300e-07 1.29522658e-07\n",
      " 1.10786667e-07 9.46883621e-08 8.08673244e-08 6.90107752e-08\n",
      " 5.88475110e-08 5.01425774e-08 4.26925966e-08 3.63216733e-08\n",
      " 3.08778097e-08 2.62297703e-08 2.22643412e-08 1.88839383e-08\n",
      " 1.60045202e-08 1.35537698e-08 1.14695113e-08 9.69833279e-09\n",
      " 8.19438969e-09 6.91836556e-09 5.83657083e-09 4.92016170e-09\n",
      " 4.14446382e-09 3.48838726e-09 2.93392084e-09 2.46569556e-09\n",
      " 2.07060795e-09 1.73749539e-09 1.45685661e-09 1.22061110e-09\n",
      " 1.02189244e-09 8.54870667e-10 7.14599993e-10 5.96888156e-10\n",
      " 4.98184575e-10 4.15484621e-10 3.46247775e-10 2.88327716e-10\n",
      " 2.39912653e-10 1.99474450e-10 1.65725279e-10 1.37580729e-10\n",
      " 1.14128422e-10 9.46013604e-11 7.83552881e-11 6.48494958e-11\n",
      " 5.36305508e-11 4.43185224e-11 3.65953284e-11 3.01948854e-11\n",
      " 2.48947910e-11 2.05093051e-11 1.68834334e-11 1.38879439e-11]\n"
     ]
    }
   ],
   "source": [
    "\n",
    "gamma = 1\n",
    "\n",
    "\n",
    "y = np.exp(-(x-5)**2)\n",
    "\n",
    "print(y)"
   ]
  },
  {
   "cell_type": "code",
   "execution_count": 18,
   "metadata": {},
   "outputs": [
    {
     "name": "stdout",
     "output_type": "stream",
     "text": [
      "0.0011053085327148438\n"
     ]
    }
   ],
   "source": [
    "import time\n",
    "start = time.time()\n",
    "#Simulation\n",
    "#%%time\n",
    "\n",
    "#def init():\n",
    "   # line.set_data([], [])\n",
    "    #return line,\n",
    "def equ(times, nx, dt, gamma, x, y):\n",
    "    y_v = np.zeros(nx-1)\n",
    "    y_a = np.zeros(nx-1)\n",
    "    #for t in times:\n",
    "    for i in range(0, 511):\n",
    "        if i == 0 or i == 511:\n",
    "            y_a[i] = 0\n",
    "            y_v[i] = y_v[i] + y_a[i]*dt\n",
    "            y[i] = y[i] + y_v[i]*dt\n",
    "        else:\n",
    "            y_a[i] = gamma*((y[i+1] + y[i-1] - 2*y[i])/(dx)**2)\n",
    "            y_v[i] = y_v[i] + y_a[i]*dt\n",
    "            y[i] = y[i] + y_v[i]*dt\n",
    "    return y\n",
    "onedwave = equ(times, nx, dt, gamma, x, y)    \n",
    "print(time.time() - start)"
   ]
  },
  {
   "cell_type": "code",
   "execution_count": 20,
   "metadata": {},
   "outputs": [
    {
     "data": {
      "image/png": "[encoded data removed]",
      "text/plain": [
       "<Figure size 432x288 with 1 Axes>"
      ]
     },
     "metadata": {
      "needs_background": "light"
     },
     "output_type": "display_data"
    }
   ],
   "source": [
    "fig = plt.figure()\n",
    "\n",
    "axis = plt.axes(xlim =(0, 100),\n",
    "                ylim =(-0.2, 1.0))\n",
    "line, = axis.plot(x, y, lw = 3)\n",
    "\n",
    "def animate(i):\n",
    "    line.set_ydata(equ(times, nx, dt, gamma, x, y))\n",
    "    return line,\n",
    "        \n",
    "anim = animation.FuncAnimation(fig,animate,frames=360,interval=20)\n",
    "plt.show()"
   ]
  },
  {
   "cell_type": "markdown",
   "metadata": {},
   "source": [
    "\n",
    "\n",
    "---\n",
    "<a name=Timeing-Scaling-Study></a>\n",
    "# 2. Timeing / Scaling Study\n",
    "\n"
   ]
  },
  {
   "cell_type": "markdown",
   "metadata": {},
   "source": [
    "&#9989; **<font color=red>DO THIS:</font>** Conduct a timing study of your 1D wave equation.  Make sure you have run it enough times to get accurate results.  (You are encouraged to compare timing results if you have different versions of the code and/or if you run your code on different machines). "
   ]
  },
  {
   "cell_type": "markdown",
   "metadata": {},
   "source": [
    "The time scaling of the equation is used above using %%time. The average time was around "
   ]
  },
  {
   "cell_type": "markdown",
   "metadata": {},
   "source": [
    "The units for the time study is in seconds. Before when I would loop through t times, it would take minutes for the study to run. \n",
    "\n",
    "0.001192\n",
    "0.001101\n",
    "0.001087\n",
    "0.001069\n",
    "0.001105"
   ]
  },
  {
   "cell_type": "code",
   "execution_count": 19,
   "metadata": {},
   "outputs": [
    {
     "name": "stdout",
     "output_type": "stream",
     "text": [
      "The average run time in seconds is 0.0011108\n"
     ]
    }
   ],
   "source": [
    "a = [0.001192, 0.001101, 0.001087, 0.001069, 0.001105]\n",
    "avg = np.mean(a)\n",
    "print(\"The average run time in seconds is {}\".format(avg))"
   ]
  },
  {
   "cell_type": "markdown",
   "metadata": {},
   "source": [
    "\n",
    "\n",
    "---\n",
    "<a name=Homework-Report></a>\n",
    "# 3. Homework Report\n",
    "\n",
    "\n",
    "\n",
    "\n",
    "Write a short (approx. 1-page) report for this homework.  Include the report and all of your code/instructions when you turn in the project (ex. Makefiles, library install instructions, etc). Make sure the report answers the following questions:"
   ]
  },
  {
   "cell_type": "markdown",
   "metadata": {},
   "source": [
    "&#9989; **<font color=red>QUESTION:</font>**  On average how long did it take to execute the simulation above?"
   ]
  },
  {
   "cell_type": "markdown",
   "metadata": {},
   "source": [
    "&#9989; **<font color=red>QUESTION:</font>** What programming language/version did you use to implement your 1D wave equation?"
   ]
  },
  {
   "cell_type": "markdown",
   "metadata": {},
   "source": [
    "&#9989; **<font color=red>QUESTION:</font>** What instructions are needed for the instructor to reproduce your results? i.e. what commands are needed to compile your code?  What libraries (if any) Libraries are needed?  Do not assume that the instructor is familiar with your language. Make sure instructions are complete. Write them as if you were giving them to another student in this course or maybe CMSE202. "
   ]
  },
  {
   "cell_type": "markdown",
   "metadata": {},
   "source": [
    "&#9989; **<font color=red>QUESTION:</font>**  Describe the computer which you conducted the timing study (CPU speed, RAM, Operating System, software version, Cores used, etc.)."
   ]
  },
  {
   "cell_type": "markdown",
   "metadata": {},
   "source": [
    "&#9989; **<font color=red>QUESTION:</font>**  Describe ways you could make your program go faster. "
   ]
  },
  {
   "cell_type": "markdown",
   "metadata": {},
   "source": [
    "\n",
    "---\n",
    "<a name=Optional-Bonus></a>\n",
    "# 4. Optional Bonus\n",
    "\n",
    "\n",
    "\n",
    "Using your code, generate a visualization of the simulation similar to the animated gif at the top of this notebook. Include this visualization as part of your report."
   ]
  },
  {
   "cell_type": "markdown",
   "metadata": {},
   "source": [
    "\n",
    "\n",
    "---\n",
    "<a name=Tar-Zip-your-files></a>\n",
    "# 5. Tarzip your files\n",
    "\n"
   ]
  },
  {
   "cell_type": "markdown",
   "metadata": {},
   "source": [
    "Create a folder based on your MSU netID and the homework code (For example, mine would be called colbrydi_HW1).  Place all of your source code files in the directory.  Make sure you include instructions for the instructors to use the code.  Do not include compiled code or libraries that can be installed by the instructor.  \n",
    "\n",
    "We are going to use a program call ```tar``` which is used to \"Archive\" files. Basically ```tar``` will take a group of files and combine them into one file.  The command can also be used to ```zip``` or compress the result into a single, compact file that makes it easy to share.  We often call these files a tarzip.  To tarzip a folder you need to run the following command in the directory that contains your folder:\n",
    "\n",
    "```bash\n",
    "tar -czvf NAME.tgz FOLDER \n",
    "```\n",
    "\n",
    "The options are as follows:\n",
    "\n",
    "- ```c``` - compress the files into one file\n",
    "- ```z``` - zip up the compressed file\n",
    "- ```v``` - verbose mode (show us what the program is doing)\n",
    "- ```f NAME.tgz``` - file NAME we want to use\n",
    "- ```FOLDER``` - The folder with all of our files.\n",
    "\n",
    "For my folder (colbrydi_HW1) the command would look like the following. \n",
    "\n",
    "```bash\n",
    "tar -czvf colbrydi_HW1.tgz colbrydi_HW1\n",
    "```\n",
    "\n",
    "If you are running in Windows you may or may not have ```tar``` installed.  I recommend that you either install tar or upload your files to jupyterhub or the HPCC and tar the files there. \n",
    "\n",
    "To test if the ```tar``` file works, may a copy of the file in a temporary directory and run the following command to \"untar\" the file:\n",
    "\n",
    "```bash\n",
    "tar -xzvf NAME.tgz \n",
    "```\n",
    "The options are as follows:\n",
    "\n",
    "- ```x``` - xtract the file into it's original files\n",
    "- ```z``` - unzip up the compressed file\n",
    "- ```v``` - verbose mode (show us what the program is doing)\n",
    "- ```f NAME.tgz``` - file NAME we want to use\n",
    "\n",
    "If everything works, you should see a folder with all of our files.  For my folder (colbrydi_HW1) the command would look like the following:\n",
    "\n",
    "```bash\n",
    "tar -xzvf colbrydi_HW1.tgz \n",
    "```\n"
   ]
  },
  {
   "cell_type": "markdown",
   "metadata": {},
   "source": [
    "-----\n",
    "### Congratulations, you are done!\n",
    "\n",
    "Submit your tgz file to the course Desire2Learn page in the HW1 assignment.  "
   ]
  },
  {
   "cell_type": "markdown",
   "metadata": {},
   "source": [
    "Written by Dr. Dirk Colbry, Michigan State University\n",
    "<a rel=\"license\" href=\"http://creativecommons.org/licenses/by-nc/4.0/\"><img alt=\"Creative Commons License\" style=\"border-width:0\" src=\"https://i.creativecommons.org/l/by-nc/4.0/88x31.png\" /></a><br />This work is licensed under a <a rel=\"license\" href=\"http://creativecommons.org/licenses/by-nc/4.0/\">Creative Commons Attribution-NonCommercial 4.0 International License</a>."
   ]
  },
  {
   "cell_type": "markdown",
   "metadata": {},
   "source": [
    "----"
   ]
  }
 ],
 "metadata": {
  "anaconda-cloud": {},
  "kernelspec": {
   "display_name": "Python 3",
   "language": "python",
   "name": "python3"
  },
  "language_info": {
   "codemirror_mode": {
    "name": "ipython",
    "version": 3
   },
   "file_extension": ".py",
   "mimetype": "text/x-python",
   "name": "python",
   "nbconvert_exporter": "python",
   "pygments_lexer": "ipython3",
   "version": "3.8.8"
  }
 },
 "nbformat": 4,
 "nbformat_minor": 2
}
